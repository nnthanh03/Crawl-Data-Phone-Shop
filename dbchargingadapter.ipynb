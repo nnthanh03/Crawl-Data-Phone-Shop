{
 "cells": [
  {
   "cell_type": "code",
   "execution_count": 1,
   "metadata": {},
   "outputs": [],
   "source": [
    "import mysql.connector\n",
    "from mysql.connector import Error\n",
    "import random\n",
    "import os\n"
   ]
  },
  {
   "cell_type": "code",
   "execution_count": 2,
   "metadata": {},
   "outputs": [
    {
     "name": "stdout",
     "output_type": "stream",
     "text": [
      "       id                                              title    brand  \\\n",
      "0  315355  Đế sạc không dây MagSafe 3 in 1 15W Anker 737 ...    Anker   \n",
      "1  314633  Adapter Sạc đa năng Universal PD 65W Xmobile D...  Xmobile   \n",
      "2  313911  Adapter Sạc 2 cổng Type C PD GaN 35W Mazer GAN...    Mazer   \n",
      "3  310565  Adapter Sạc Type C PD GaN5 20W Baseus CCGAN20C5-M   Baseus   \n",
      "4  296250        Adapter Sạc Type C PD GaN 30W Xmobile DS230  Xmobile   \n",
      "\n",
      "                                                href  \\\n",
      "0  https://www.thegioididong.com/adapter-sac/de-s...   \n",
      "1  https://www.thegioididong.com/adapter-sac/adap...   \n",
      "2  https://www.thegioididong.com/adapter-sac/adap...   \n",
      "3  https://www.thegioididong.com/adapter-sac/adap...   \n",
      "4  https://www.thegioididong.com/adapter-sac/adap...   \n",
      "\n",
      "                                      link_img_thumb    price  index_  \\\n",
      "0  https://cdn.tgdd.vn/Products/Images/9499/31535...  3505000       1   \n",
      "1  https://cdn.tgdd.vn/Products/Images/9499/31463...   990000       2   \n",
      "2  https://cdn.tgdd.vn/Products/Images/9499/31391...   550000       3   \n",
      "3  https://cdn.tgdd.vn/Products/Images/9499/31056...   190000       4   \n",
      "4  https://cdn.tgdd.vn/Products/Images/9499/29625...   220000       5   \n",
      "\n",
      "   pre_discount discount_percent  discount_idx  ... function  \\\n",
      "0     3690000.0              -5%           1.0  ...     Sạc    \n",
      "1     1100000.0             -10%           2.0  ...     Sạc    \n",
      "2      790000.0             -30%           3.0  ...     Sạc    \n",
      "3      300000.0             -36%           4.0  ...     Sạc    \n",
      "4      320000.0             -30%           5.0  ...     Sạc    \n",
      "\n",
      "                                            input_  \\\n",
      "0                                          Type-C    \n",
      "1                              100-250V ~ 10A Max    \n",
      "2  100-240V~50/60Hz, 0.8A 100-240V ~ 1.5A 50-60Hz    \n",
      "3                          100-240V~50/60Hz, 0.8A    \n",
      "4                                100-240V~50/60Hz    \n",
      "\n",
      "                                              output maximum  \\\n",
      "0                                  MagSafe: 5W - 15W   15 W    \n",
      "1  USB A1/A2: 5V - 2.4A (Max 12W) Type C1/C2: 5V ...   65 W    \n",
      "2  Type C: 5V - 3A, 9V - 3A, 12V - 2.92A, 15V - 2...   35 W    \n",
      "3          Type-C PD: 5V - 3A, 9V - 2.22A (Max 20W)    20 W    \n",
      "4  Type C: 5V - 3A, 9V - 3A, 12V - 2.5A, 15V - 2A...   30 W    \n",
      "\n",
      "                                      size  \\\n",
      "0     Dài 6 cm - Ngang 6 cm - Cao 6.34 cm    \n",
      "1  Dài 7.6 cm - Ngang 5.3 cm - Cao 8.8 cm    \n",
      "2  Dài 4.9 cm - Ngang 4.9 cm - Cao 2.3 cm    \n",
      "3  Dài 2.7 cm - Ngang 2.7 cm - Cao 4.4 cm    \n",
      "4      Dài 3 cm - Ngang 3 cm - Cao 4.8 cm    \n",
      "\n",
      "                                                tech       madein  \\\n",
      "0                                     Sạc không dây   Trung Quốc    \n",
      "1  Công nghệ GaN Power Delivery Bảo vệ khi nguồn ...  Trung Quốc    \n",
      "2                      Công nghệ GaN Power Delivery   Trung Quốc    \n",
      "3                     Power Delivery Công nghệ GaN5   Trung Quốc    \n",
      "4                                    Power Delivery   Trung Quốc    \n",
      "\n",
      "             brandof  brand.1  color_item  \n",
      "0        Trung Quốc     Anker         Đen  \n",
      "1  Thế Giới Di Động   Xmobile         Đen  \n",
      "2         Singapore     Mazer  Trắng, Đen  \n",
      "3        Trung Quốc    Baseus   Đen - Cam  \n",
      "4  Thế Giới Di Động   Xmobile       Trắng  \n",
      "\n",
      "[5 rows x 21 columns]\n"
     ]
    }
   ],
   "source": [
    "import pandas as pd\n",
    "file_path = 'D:\\CodeUIT\\Data\\Crawl-Data-Phone-Shop\\chargingadapter.xlsx'\n",
    "\n",
    "df = pd.read_excel(file_path)\n",
    "\n",
    "print (df.head())"
   ]
  },
  {
   "cell_type": "code",
   "execution_count": 3,
   "metadata": {},
   "outputs": [],
   "source": [
    "id_product = df['id'].to_list()\n",
    "name = df['title'].to_list()\n",
    "price = df['price'].to_list()\n",
    "brand = df['brand'].to_list()\n",
    "pre_discount = df['pre_discount'].to_list()\n",
    "discount_percent = df['discount_percent'].to_list()\n",
    "color = df['color_item'].to_list()"
   ]
  },
  {
   "cell_type": "code",
   "execution_count": 4,
   "metadata": {},
   "outputs": [
    {
     "name": "stdout",
     "output_type": "stream",
     "text": [
      "[3690000.0, 1100000.0, 790000.0, 300000.0, 320000.0, 490000.0, 550000.0, 0.0, 320000.0, 1090000.0, 1450000.0, 0.0, 720000.0, 1190000.0, 1490000.0, 470000.0, 430000.0, 220000.0, 0.0, 0.0, 0.0, 500000.0, 400000.0, 1390000.0, 700000.0, 850000.0, 0.0, 1300000.0, 400000.0, 320000.0, 320000.0, 290000.0, 290000.0, 120000.0, 220000.0, 450000.0, 320000.0, 450000.0, 170000.0, 220000.0, 170000.0, 220000.0, 550000.0, 220000.0, 120000.0, 170000.0, 170000.0, 980000.0, 490000.0, 220000.0, 220000.0, 170000.0, 630000.0, 395000.0, 250000.0, 290000.0, 70000.0, 370000.0, 450000.0, 290000.0, 250000.0, 0.0, 0.0, 150000.0, 450000.0, 250000.0, 150000.0, 0.0, 250000.0, 350000.0, 300000.0, 120000.0, 70000.0, 290000.0, 0.0, 50000.0]\n",
      "[0.05, 0.1, 0.3, 0.36, 0.3, 0.22, 0.1, 0.0, 0.3, 0.2, 0.1, 0.0, 0.2, 0.2, 0.2, 0.2, 0.1, 0.2, 0.0, 0.0, 0.0, 0.2, 0.2, 0.3, 0.1, 0.2, 0.0, 0.05, 0.2, 0.2, 0.1, 0.5, 0.2, 0.5, 0.5, 0.2, 0.1, 0.31, 0.1, 0.5, 0.1, 0.5, 0.2, 0.5, 0.5, 0.41, 0.2, 0.5, 0.5, 0.2, 0.2, 0.82, 0.2, 0.2, 0.6, 0.5, 0.71, 0.2, 0.4, 0.5, 0.6, 0.0, 0.0, 0.33, 0.5, 0.6, 0.33, 0.0, 0.6, 0.58, 0.5, 0.75, 0.71, 0.2, 0.0, 0.8]\n"
     ]
    }
   ],
   "source": [
    "import math\n",
    "import numpy as np\n",
    "\n",
    "for i in range(len(pre_discount)):\n",
    "    if math.isnan(pre_discount[i]) :\n",
    "        pre_discount[i] = 0.0\n",
    "\n",
    "for i in range(len(discount_percent)):\n",
    "    if not isinstance(discount_percent[i], str) or discount_percent[i] == \"\" :\n",
    "        discount_percent[i] = \"\"\n",
    "\n",
    "result = []\n",
    "\n",
    "for item in discount_percent:\n",
    "    if item is not None and item != \"\":\n",
    "        # Loại bỏ \"-\" và \"%\" từ chuỗi, sau đó chuyển đổi thành kiểu float\n",
    "        item = float(item.replace('-', '').replace('%', '')) / 100\n",
    "    else:\n",
    "        item = 0.0\n",
    "    result.append(item);\n",
    "\n",
    "discount_percent = result\n",
    "\n",
    "print(pre_discount)\n",
    "print(discount_percent)\n",
    "\n"
   ]
  },
  {
   "cell_type": "code",
   "execution_count": 4,
   "metadata": {},
   "outputs": [
    {
     "name": "stdout",
     "output_type": "stream",
     "text": [
      "11\n"
     ]
    }
   ],
   "source": [
    "import random\n",
    "\n",
    "random_integer = random.randint(1, 20)\n",
    "print(random_integer)\n"
   ]
  },
  {
   "cell_type": "code",
   "execution_count": 6,
   "metadata": {},
   "outputs": [
    {
     "name": "stdout",
     "output_type": "stream",
     "text": [
      "Dữ liệu đã được chèn thành công.\n"
     ]
    }
   ],
   "source": [
    "try:\n",
    "    connection = mysql.connector.connect(\n",
    "        host='localhost',\n",
    "        user='root',\n",
    "        password='',\n",
    "        database='vechaishop'\n",
    "    )\n",
    "\n",
    "    if connection.is_connected():\n",
    "        cursor = connection.cursor()\n",
    "\n",
    "        for i in range(len(id_product)):\n",
    "                \n",
    "            # Thông tin sản phẩm\n",
    "            product_data = {\n",
    "                'ID': id_product[i],\n",
    "                'NAME': name[i],\n",
    "                'PRICE': price[i],\n",
    "                'DESCRIPTION': '',\n",
    "                'CATEGORY': 2,\n",
    "                'BRAND': brand[i],\n",
    "                'QUANTITY': random.randint(1, 20),\n",
    "                'PRE_DISCOUNT': pre_discount[i],\n",
    "                'DISCOUNT_PERCENT': discount_percent[i],\n",
    "                'COLOR': color[i]\n",
    "            }\n",
    "\n",
    "            image_path = 'D:/CodeUIT/Data/imgs/img_product/{}.jpg'.format(id_product[i])\n",
    "            with open(image_path, 'rb') as file:\n",
    "                image_data = file.read()\n",
    "\n",
    "            product_data['IMAGE'] = image_data\n",
    "\n",
    "            insert_query = \"\"\"\n",
    "            INSERT INTO product (ID, NAME, PRICE, DESCRIPTION, IMAGE, CATEGORY, BRAND, QUANTITY, PRE_DISCOUNT, DISCOUNT_PERCENT, COLOR)\n",
    "            VALUES (%(ID)s, %(NAME)s, %(PRICE)s, %(DESCRIPTION)s, %(IMAGE)s, %(CATEGORY)s, %(BRAND)s, %(QUANTITY)s, %(PRE_DISCOUNT)s, %(DISCOUNT_PERCENT)s, %(COLOR)s)\n",
    "            \"\"\"\n",
    "\n",
    "            cursor.execute(insert_query, product_data)\n",
    "        connection.commit()\n",
    "        print(\"Dữ liệu đã được chèn thành công.\")\n",
    "\n",
    "except Error as e:\n",
    "    print(\"Lỗi:\", e)\n",
    "\n",
    "finally:\n",
    "    if connection.is_connected():\n",
    "        cursor.close()\n",
    "        connection.close()"
   ]
  },
  {
   "cell_type": "code",
   "execution_count": 4,
   "metadata": {},
   "outputs": [],
   "source": [
    "model = df['model'].to_list()\n",
    "function = df['function'].to_list()\n",
    "input_ = df['input_'].to_list()\n",
    "output = df['output'].to_list()\n",
    "maximum = df['maximum'].to_list()\n",
    "size = df['size'].to_list()\n",
    "tech = df['tech'].to_list()\n",
    "madein = df['madein'].to_list()\n",
    "brandof = df['brandof'].to_list()\n",
    "brand = df['brand'].to_list()\n"
   ]
  },
  {
   "cell_type": "code",
   "execution_count": 41,
   "metadata": {},
   "outputs": [],
   "source": [
    "import math\n",
    "for i, item in enumerate(brand):\n",
    "    if not isinstance(item, str):\n",
    "        print(id_product[i])"
   ]
  },
  {
   "cell_type": "code",
   "execution_count": 42,
   "metadata": {},
   "outputs": [
    {
     "name": "stdout",
     "output_type": "stream",
     "text": [
      "Dữ liệu đã được chèn thành công.\n"
     ]
    }
   ],
   "source": [
    "try:\n",
    "    connection = mysql.connector.connect(\n",
    "        host='localhost',\n",
    "        user='root',\n",
    "        password='',\n",
    "        database='vechaishop'\n",
    "    )\n",
    "\n",
    "    if connection.is_connected():\n",
    "        cursor = connection.cursor()\n",
    "\n",
    "        for i in range(len(id_product)):\n",
    "        \n",
    "            parameter_phone = {\n",
    "                'PRODUCT_ID' : id_product[i],\n",
    "                'MODEL': model[i],\n",
    "                'FUNCTION': function[i],\n",
    "                'INPUT': input_[i],\n",
    "                'OPUTPUT': output[i],\n",
    "                'MAXIMUM': maximum[i],\n",
    "                'SIZE': size[i],\n",
    "                'TECH': tech[i],\n",
    "                'MADEIN': madein[i],\n",
    "                'BRANDOF': brandof[i],\n",
    "                'BRAND': brand[i]\n",
    "            }\n",
    "\n",
    "            insert_query = \"\"\"\n",
    "            INSERT INTO parameter_adapter (PRODUCT_ID, MODEL, FUNCTION, INPUT, OPUTPUT, MAXIMUM, SIZE, TECH, MADEIN, BRANDOF, BRAND)\n",
    "            VALUES (%(PRODUCT_ID)s, %(MODEL)s, %(FUNCTION)s, %(INPUT)s, %(OPUTPUT)s, %(MAXIMUM)s, %(SIZE)s, %(TECH)s, %(MADEIN)s, %(BRANDOF)s, %(BRAND)s)\n",
    "            \"\"\"\n",
    "\n",
    "            cursor.execute(insert_query, parameter_phone)\n",
    "        connection.commit()\n",
    "        print(\"Dữ liệu đã được chèn thành công.\")\n",
    "\n",
    "except Error as e:\n",
    "    print(\"Lỗi:\", e)\n",
    "\n",
    "finally:\n",
    "    if connection.is_connected():\n",
    "        cursor.close()\n",
    "        connection.close()"
   ]
  },
  {
   "cell_type": "code",
   "execution_count": 78,
   "metadata": {},
   "outputs": [
    {
     "name": "stdout",
     "output_type": "stream",
     "text": [
      "285082\n",
      "0\n",
      "18\n"
     ]
    }
   ],
   "source": [
    "color_item = \"Titan xanh, Titan đen, Titan tự nhiên, Titan trắng\"\n",
    "\n",
    "\n",
    "for i in range(len(id_product)):\n",
    "    list_color = []\n",
    "    if ',' in color[i]:\n",
    "        list_color = color[i].split(', ')\n",
    "    else: list_color.append(color[i])\n",
    "    for color_item in list_color:\n",
    "\n",
    "        image_path = r'D:\\CodeUIT\\Data\\imgs\\imgs_details\\{}\\{}\\{}.jpg'.format(id_product[i], color_item,'thumb')\n",
    "        try:\n",
    "            with open(image_path, 'rb') as file:\n",
    "                image_data = file.read()\n",
    "        except FileNotFoundError:\n",
    "            image_data = None\n",
    "\n",
    "        # if image_data is None:\n",
    "        #     print('Noneeeeee', id_product[i],' ', color_item)\n",
    "        "
   ]
  },
  {
   "cell_type": "code",
   "execution_count": 74,
   "metadata": {},
   "outputs": [
    {
     "name": "stdout",
     "output_type": "stream",
     "text": [
      "13\n"
     ]
    }
   ],
   "source": [
    "image_path = r'D:\\CodeUIT\\Data\\imgs\\imgs_details\\{}\\{}'.format(213031, 'Đỏ')\n",
    "for filename in os.listdir(image_path):\n",
    "    if filename.endswith(\".jpg\"):\n",
    "        jpg_count += 1\n",
    "\n",
    "print(jpg_count)"
   ]
  },
  {
   "cell_type": "code",
   "execution_count": null,
   "metadata": {},
   "outputs": [],
   "source": [
    "color = df['color_item'].to_list()\n",
    "try:\n",
    "    connection = mysql.connector.connect(\n",
    "        host='localhost',\n",
    "        user='root',\n",
    "        password='',\n",
    "        database='vechaishop'\n",
    "    )\n",
    "\n",
    "    if connection.is_connected():\n",
    "        cursor = connection.cursor()\n",
    "\n",
    "        for i in range(len(id_product)):\n",
    "            print(id_product[i])\n",
    "            list_color = []\n",
    "            if ',' in color[i]:\n",
    "                list_color = color[i].split(', ')\n",
    "            else: list_color.append(color[i])\n",
    "            for color_item in list_color:\n",
    "\n",
    "                insert_query = \"\"\"\n",
    "                INSERT INTO image_detail (PRODUCT_ID, COLOR, ORDINAL, IMAGE)\n",
    "                VALUES (%(PRODUCT_ID)s, %(COLOR)s, %(ORDINAL)s, %(IMAGE)s)\n",
    "                \"\"\"\n",
    "                \n",
    "                img_data_list = []\n",
    "                for t in range(0,17):\n",
    "                    img_data_list.append('')\n",
    "\n",
    "                image_path_thumb = r'D:\\CodeUIT\\Data\\imgs\\imgs_details\\{}\\{}\\{}.jpg'.format(id_product[i], color_item,'thumb')\n",
    "                try:\n",
    "                    with open(image_path_thumb, 'rb') as file:\n",
    "                        image_data_thumb = file.read()\n",
    "                except FileNotFoundError:\n",
    "                    image_data_thumb = None\n",
    "\n",
    "                image_phone1 = {\n",
    "                    'PRODUCT_ID' : id_product[i],\n",
    "                    'COLOR': color_item,\n",
    "                    'ORDINAL': -1,\n",
    "                    'IMAGE': image_data_thumb\n",
    "                }\n",
    "\n",
    "                cursor.execute(insert_query, image_phone1)\n",
    "\n",
    "\n",
    "                jpg_count = 0\n",
    "                image_path_count = r'D:\\CodeUIT\\Data\\imgs\\imgs_details\\{}\\{}'.format(id_product[i], color_item)\n",
    "                for filename in os.listdir(image_path_count):\n",
    "                    if filename.endswith(\".jpg\"):\n",
    "                        jpg_count += 1\n",
    "\n",
    "                for index in range(jpg_count-1):\n",
    "                    image_path = r'D:\\CodeUIT\\Data\\imgs\\imgs_details\\{}\\{}\\{}.jpg'.format(id_product[i], color_item, index)\n",
    "                    try:\n",
    "                        with open(image_path, 'rb') as file:\n",
    "                            image_data = file.read()\n",
    "                    except FileNotFoundError:\n",
    "                            image_data = ''\n",
    "                    image_phone2 = {\n",
    "                        'PRODUCT_ID' : id_product[i],\n",
    "                        'COLOR': color_item,\n",
    "                        'ORDINAL': index,\n",
    "                        'IMAGE': image_data\n",
    "                    }\n",
    "                    cursor.execute(insert_query, image_phone2)\n",
    "                \n",
    "        connection.commit()\n",
    "        print(\"Dữ liệu đã được chèn thành công.\")\n",
    "\n",
    "except Error as e:\n",
    "    print(\"Lỗi:\", e)\n",
    "\n",
    "finally:\n",
    "    if connection.is_connected():\n",
    "        cursor.close()\n",
    "        connection.close()"
   ]
  },
  {
   "cell_type": "code",
   "execution_count": 5,
   "metadata": {},
   "outputs": [
    {
     "name": "stdout",
     "output_type": "stream",
     "text": [
      "Dữ liệu đã được chèn thành công.\n"
     ]
    }
   ],
   "source": [
    "import random\n",
    "\n",
    "try:\n",
    "    connection = mysql.connector.connect(\n",
    "        host='localhost',\n",
    "        user='root',\n",
    "        password='',\n",
    "        database='vechaishop'\n",
    "    )\n",
    "\n",
    "    if connection.is_connected():\n",
    "        cursor = connection.cursor()\n",
    "\n",
    "        for i in range(len(id_product)):\n",
    "            \n",
    "            list_color = []\n",
    "            if ',' in color[i]:\n",
    "                list_color = color[i].split(', ')\n",
    "            else: list_color.append(color[i])\n",
    "            for color_item in list_color:\n",
    "\n",
    "                insert_query = \"\"\"\n",
    "                INSERT INTO product_quantity (PRODUCT_ID, COLOR, QUANTITY)\n",
    "                VALUES (%(PRODUCT_ID)s, %(COLOR)s, %(QUANTITY)s)\n",
    "                \"\"\"\n",
    "                \n",
    "                \n",
    "                quantity_data = {\n",
    "                    'PRODUCT_ID' : id_product[i],\n",
    "                    'COLOR': color_item,\n",
    "                    'QUANTITY': random.randint(1, 50)\n",
    "                }\n",
    "\n",
    "                cursor.execute(insert_query, quantity_data)\n",
    "                \n",
    "        connection.commit()\n",
    "        print(\"Dữ liệu đã được chèn thành công.\")\n",
    "\n",
    "except Error as e:\n",
    "    print(\"Lỗi:\", e)\n",
    "\n",
    "finally:\n",
    "    if connection.is_connected():\n",
    "        cursor.close()\n",
    "        connection.close()"
   ]
  }
 ],
 "metadata": {
  "kernelspec": {
   "display_name": "Python 3",
   "language": "python",
   "name": "python3"
  },
  "language_info": {
   "codemirror_mode": {
    "name": "ipython",
    "version": 3
   },
   "file_extension": ".py",
   "mimetype": "text/x-python",
   "name": "python",
   "nbconvert_exporter": "python",
   "pygments_lexer": "ipython3",
   "version": "3.10.7"
  }
 },
 "nbformat": 4,
 "nbformat_minor": 2
}
