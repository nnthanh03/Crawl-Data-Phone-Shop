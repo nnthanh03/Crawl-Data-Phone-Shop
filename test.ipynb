{
 "cells": [
  {
   "cell_type": "code",
   "execution_count": 10,
   "metadata": {},
   "outputs": [
    {
     "name": "stdout",
     "output_type": "stream",
     "text": [
      "INSERT INTO `cart_detail` (`ID`, `CART_ID`, `PRODUCT_ID`, `COLOR`, `QUANTITY`, `TYPE`, `TOTAL_PRICE`) VALUES (NULL, '5', '312792', 'Hồng', '1', NULL, '300000');\n",
      "INSERT INTO `cart_detail` (`ID`, `CART_ID`, `PRODUCT_ID`, `COLOR`, `QUANTITY`, `TYPE`, `TOTAL_PRICE`) VALUES (NULL, '5', '310236', 'Đen', '1', NULL, '1040000');\n",
      "INSERT INTO `cart_detail` (`ID`, `CART_ID`, `PRODUCT_ID`, `COLOR`, `QUANTITY`, `TYPE`, `TOTAL_PRICE`) VALUES (NULL, '5', '281379', 'Đen', '1', NULL, '760000');\n",
      "INSERT INTO `cart` (`ID`, `CUSTOMER_EMAIL`, `TOTAL_PRICE`) VALUES (NULL, 'huynhmanhhuy24062003@gmail.com', '2100000');\n"
     ]
    }
   ],
   "source": [
    "import pandas as pd\n",
    "import random\n",
    "\n",
    "random_integer = random.randint(1, 20)\n",
    "file_path_1 = 'D:/CodeUIT/Data/Crawl-Data-Phone-Shop/phoneupdate.xlsx'\n",
    "file_path_2 = 'D:/CodeUIT/Data/Crawl-Data-Phone-Shop/chargingadapter.xlsx'\n",
    "file_path_3 = 'D:/CodeUIT/Data/Crawl-Data-Phone-Shop/cable.xlsx'\n",
    "file_path_4 = 'D:/CodeUIT/Data/Crawl-Data-Phone-Shop/backup_charger.xlsx'\n",
    "\n",
    "df1 = pd.read_excel(file_path_1)\n",
    "df2 = pd.read_excel(file_path_2)\n",
    "df3 = pd.read_excel(file_path_3)\n",
    "df4 = pd.read_excel(file_path_4)\n",
    "\n",
    "id_phone = df1['id'].to_list()\n",
    "price_phone = df1['price'].to_list()\n",
    "color_phone = df1['color_item'].to_list()\n",
    "\n",
    "id_adpater = df2['id'].to_list()\n",
    "price_adpater = df2['price'].to_list()\n",
    "color_adpater = df2['color_item'].to_list()\n",
    "\n",
    "id_cable= df3['id'].to_list()\n",
    "price_cable= df3['price'].to_list()\n",
    "color_cable = df3['color_item'].to_list()\n",
    "\n",
    "id_backup = df4['id'].to_list()\n",
    "price_backup = df4['price'].to_list()\n",
    "color_backup = df4['color_item'].to_list()\n",
    "\n",
    "total_price = 0\n",
    "\n",
    "cart_id = '5'\n",
    "customer_email = 'huynhmanhhuy24062003@gmail.com'\n",
    "# phone = '0987654321'\n",
    "# address = '8, Trần Quang Diệu, Phường Cô Giang, Quận 3, TP.HCM'\n",
    "\n",
    "for i in range(random.randint(2,3)):\n",
    "    category = random.randint(1,4)\n",
    "    if category == 1:\n",
    "        id_random = random.randint(0, len(id_phone))\n",
    "        product_id = id_phone[id_random]\n",
    "        price = price_phone[id_random]\n",
    "        total_price += int(price)\n",
    "        color = color_phone[id_random].split(', ')[0]\n",
    "        \n",
    "    if category == 2:\n",
    "        id_random = random.randint(0, len(id_adpater))\n",
    "        product_id = id_adpater[id_random]\n",
    "        price = price_adpater[id_random]\n",
    "        total_price += int(price)\n",
    "        color = color_adpater[id_random].split(', ')[0]\n",
    "\n",
    "    if category == 3:\n",
    "        id_random = random.randint(0, len(id_cable))\n",
    "        product_id = id_cable[id_random]\n",
    "        price = price_cable[id_random]\n",
    "        total_price += int(price)\n",
    "        color = color_cable[id_random].split(', ')[0]\n",
    "\n",
    "    if category == 4:\n",
    "        id_random = random.randint(0, len(id_backup))\n",
    "        product_id = id_backup[id_random]\n",
    "        price = price_backup[id_random]\n",
    "        total_price += int(price)\n",
    "        color = color_backup[id_random].split(', ')[0]\n",
    "    \n",
    "\n",
    "    # print(f\"INSERT INTO `order_detail` (`ID`, `ORDER_ID`, `PRODUCT_ID`, `COLOR`, `QUANTITY`, `TOTAL_PRICE`) VALUES (NULL, '{stt}', '{product_id}', '{color}', '1', '{price}');\")\n",
    "    print(f\"INSERT INTO `cart_detail` (`ID`, `CART_ID`, `PRODUCT_ID`, `COLOR`, `QUANTITY`, `TYPE`, `TOTAL_PRICE`) VALUES (NULL, '{cart_id}', '{product_id}', '{color}', '1', NULL, '{price}');\")\n",
    "\n",
    "# print(f\"INSERT INTO `orders` (`ID`, `CUSTOMER_EMAIL`, `ADDRESS`, `PHONE`, `DISCOUNT`, `TOTAL_PRICE`, `ORDER_DATE`, `DELIVERY_TYPE`, `PAYMENT_TYPE`, `STATUS`) VALUES (NULL, '{customer_email}', '{address}', '{phone}', NULL, '{total_price}', '2023-11-{ngay}', 'Standard', 'Cash', 'Delivering');\")\n",
    "print(f\"INSERT INTO `cart` (`ID`, `CUSTOMER_EMAIL`, `TOTAL_PRICE`) VALUES (NULL, '{customer_email}', '{total_price}');\")\n"
   ]
  }
 ],
 "metadata": {
  "kernelspec": {
   "display_name": "Python 3",
   "language": "python",
   "name": "python3"
  },
  "language_info": {
   "codemirror_mode": {
    "name": "ipython",
    "version": 3
   },
   "file_extension": ".py",
   "mimetype": "text/x-python",
   "name": "python",
   "nbconvert_exporter": "python",
   "pygments_lexer": "ipython3",
   "version": "3.10.7"
  }
 },
 "nbformat": 4,
 "nbformat_minor": 2
}
